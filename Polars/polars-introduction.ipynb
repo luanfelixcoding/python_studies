{
 "cells": [
  {
   "cell_type": "markdown",
   "id": "431f8db8",
   "metadata": {},
   "source": [
    "# Polars"
   ]
  },
  {
   "cell_type": "markdown",
   "id": "f0ed8393",
   "metadata": {},
   "source": [
    "## Documentation\n",
    "[documentation_link](https://docs.pola.rs/user-guide/getting-started/)"
   ]
  },
  {
   "cell_type": "markdown",
   "id": "1822e98b",
   "metadata": {},
   "source": [
    "## Dataset Download\n",
    "[dataset_link](https://www.kaggle.com/datasets/alphiree/cardiovascular-diseases-risk-prediction-dataset)"
   ]
  },
  {
   "cell_type": "markdown",
   "id": "f9563c6b",
   "metadata": {},
   "source": [
    "### Importing Library"
   ]
  },
  {
   "cell_type": "code",
   "execution_count": null,
   "id": "ab48d209",
   "metadata": {},
   "outputs": [],
   "source": [
    "import polars as pl"
   ]
  },
  {
   "cell_type": "markdown",
   "id": "fcd4f46a",
   "metadata": {},
   "source": [
    "### Read `.csv` dataset"
   ]
  },
  {
   "cell_type": "code",
   "execution_count": 57,
   "id": "ea33328b",
   "metadata": {},
   "outputs": [],
   "source": [
    "df = pl.read_csv(\"CVD_cleaned.csv\")"
   ]
  },
  {
   "cell_type": "markdown",
   "id": "b6a2bb3e",
   "metadata": {},
   "source": [
    "### Basic Operations"
   ]
  },
  {
   "cell_type": "code",
   "execution_count": 6,
   "id": "075cdc70",
   "metadata": {},
   "outputs": [
    {
     "data": {
      "text/plain": [
       "(308854, 19)"
      ]
     },
     "execution_count": 6,
     "metadata": {},
     "output_type": "execute_result"
    }
   ],
   "source": [
    "df.shape"
   ]
  },
  {
   "cell_type": "code",
   "execution_count": 31,
   "id": "911f594d",
   "metadata": {},
   "outputs": [
    {
     "data": {
      "text/html": [
       "<div><style>\n",
       ".dataframe > thead > tr,\n",
       ".dataframe > tbody > tr {\n",
       "  text-align: right;\n",
       "  white-space: pre-wrap;\n",
       "}\n",
       "</style>\n",
       "<small>shape: (5, 19)</small><table border=\"1\" class=\"dataframe\"><thead><tr><th>General_Health</th><th>Checkup</th><th>Exercise</th><th>Heart_Disease</th><th>Skin_Cancer</th><th>Other_Cancer</th><th>Depression</th><th>Diabetes</th><th>Arthritis</th><th>Sex</th><th>Age_Category</th><th>Height_(cm)</th><th>Weight_(kg)</th><th>BMI</th><th>Smoking_History</th><th>Alcohol_Consumption</th><th>Fruit_Consumption</th><th>Green_Vegetables_Consumption</th><th>FriedPotato_Consumption</th></tr><tr><td>str</td><td>str</td><td>str</td><td>str</td><td>str</td><td>str</td><td>str</td><td>str</td><td>str</td><td>str</td><td>str</td><td>f64</td><td>f64</td><td>f64</td><td>str</td><td>f64</td><td>f64</td><td>f64</td><td>f64</td></tr></thead><tbody><tr><td>&quot;Poor&quot;</td><td>&quot;Within the past 2 years&quot;</td><td>&quot;No&quot;</td><td>&quot;No&quot;</td><td>&quot;No&quot;</td><td>&quot;No&quot;</td><td>&quot;No&quot;</td><td>&quot;No&quot;</td><td>&quot;Yes&quot;</td><td>&quot;Female&quot;</td><td>&quot;70-74&quot;</td><td>150.0</td><td>32.66</td><td>14.54</td><td>&quot;Yes&quot;</td><td>0.0</td><td>30.0</td><td>16.0</td><td>12.0</td></tr><tr><td>&quot;Very Good&quot;</td><td>&quot;Within the past year&quot;</td><td>&quot;No&quot;</td><td>&quot;Yes&quot;</td><td>&quot;No&quot;</td><td>&quot;No&quot;</td><td>&quot;No&quot;</td><td>&quot;Yes&quot;</td><td>&quot;No&quot;</td><td>&quot;Female&quot;</td><td>&quot;70-74&quot;</td><td>165.0</td><td>77.11</td><td>28.29</td><td>&quot;No&quot;</td><td>0.0</td><td>30.0</td><td>0.0</td><td>4.0</td></tr><tr><td>&quot;Very Good&quot;</td><td>&quot;Within the past year&quot;</td><td>&quot;Yes&quot;</td><td>&quot;No&quot;</td><td>&quot;No&quot;</td><td>&quot;No&quot;</td><td>&quot;No&quot;</td><td>&quot;Yes&quot;</td><td>&quot;No&quot;</td><td>&quot;Female&quot;</td><td>&quot;60-64&quot;</td><td>163.0</td><td>88.45</td><td>33.47</td><td>&quot;No&quot;</td><td>4.0</td><td>12.0</td><td>3.0</td><td>16.0</td></tr><tr><td>&quot;Poor&quot;</td><td>&quot;Within the past year&quot;</td><td>&quot;Yes&quot;</td><td>&quot;Yes&quot;</td><td>&quot;No&quot;</td><td>&quot;No&quot;</td><td>&quot;No&quot;</td><td>&quot;Yes&quot;</td><td>&quot;No&quot;</td><td>&quot;Male&quot;</td><td>&quot;75-79&quot;</td><td>180.0</td><td>93.44</td><td>28.73</td><td>&quot;No&quot;</td><td>0.0</td><td>30.0</td><td>30.0</td><td>8.0</td></tr><tr><td>&quot;Good&quot;</td><td>&quot;Within the past year&quot;</td><td>&quot;No&quot;</td><td>&quot;No&quot;</td><td>&quot;No&quot;</td><td>&quot;No&quot;</td><td>&quot;No&quot;</td><td>&quot;No&quot;</td><td>&quot;No&quot;</td><td>&quot;Male&quot;</td><td>&quot;80+&quot;</td><td>191.0</td><td>88.45</td><td>24.37</td><td>&quot;Yes&quot;</td><td>0.0</td><td>8.0</td><td>4.0</td><td>0.0</td></tr></tbody></table></div>"
      ],
      "text/plain": [
       "shape: (5, 19)\n",
       "┌───────────┬───────────┬──────────┬───────────┬───┬───────────┬───────────┬───────────┬───────────┐\n",
       "│ General_H ┆ Checkup   ┆ Exercise ┆ Heart_Dis ┆ … ┆ Alcohol_C ┆ Fruit_Con ┆ Green_Veg ┆ FriedPota │\n",
       "│ ealth     ┆ ---       ┆ ---      ┆ ease      ┆   ┆ onsumptio ┆ sumption  ┆ etables_C ┆ to_Consum │\n",
       "│ ---       ┆ str       ┆ str      ┆ ---       ┆   ┆ n         ┆ ---       ┆ onsumptio ┆ ption     │\n",
       "│ str       ┆           ┆          ┆ str       ┆   ┆ ---       ┆ f64       ┆ n         ┆ ---       │\n",
       "│           ┆           ┆          ┆           ┆   ┆ f64       ┆           ┆ ---       ┆ f64       │\n",
       "│           ┆           ┆          ┆           ┆   ┆           ┆           ┆ f64       ┆           │\n",
       "╞═══════════╪═══════════╪══════════╪═══════════╪═══╪═══════════╪═══════════╪═══════════╪═══════════╡\n",
       "│ Poor      ┆ Within    ┆ No       ┆ No        ┆ … ┆ 0.0       ┆ 30.0      ┆ 16.0      ┆ 12.0      │\n",
       "│           ┆ the past  ┆          ┆           ┆   ┆           ┆           ┆           ┆           │\n",
       "│           ┆ 2 years   ┆          ┆           ┆   ┆           ┆           ┆           ┆           │\n",
       "│ Very Good ┆ Within    ┆ No       ┆ Yes       ┆ … ┆ 0.0       ┆ 30.0      ┆ 0.0       ┆ 4.0       │\n",
       "│           ┆ the past  ┆          ┆           ┆   ┆           ┆           ┆           ┆           │\n",
       "│           ┆ year      ┆          ┆           ┆   ┆           ┆           ┆           ┆           │\n",
       "│ Very Good ┆ Within    ┆ Yes      ┆ No        ┆ … ┆ 4.0       ┆ 12.0      ┆ 3.0       ┆ 16.0      │\n",
       "│           ┆ the past  ┆          ┆           ┆   ┆           ┆           ┆           ┆           │\n",
       "│           ┆ year      ┆          ┆           ┆   ┆           ┆           ┆           ┆           │\n",
       "│ Poor      ┆ Within    ┆ Yes      ┆ Yes       ┆ … ┆ 0.0       ┆ 30.0      ┆ 30.0      ┆ 8.0       │\n",
       "│           ┆ the past  ┆          ┆           ┆   ┆           ┆           ┆           ┆           │\n",
       "│           ┆ year      ┆          ┆           ┆   ┆           ┆           ┆           ┆           │\n",
       "│ Good      ┆ Within    ┆ No       ┆ No        ┆ … ┆ 0.0       ┆ 8.0       ┆ 4.0       ┆ 0.0       │\n",
       "│           ┆ the past  ┆          ┆           ┆   ┆           ┆           ┆           ┆           │\n",
       "│           ┆ year      ┆          ┆           ┆   ┆           ┆           ┆           ┆           │\n",
       "└───────────┴───────────┴──────────┴───────────┴───┴───────────┴───────────┴───────────┴───────────┘"
      ]
     },
     "execution_count": 31,
     "metadata": {},
     "output_type": "execute_result"
    }
   ],
   "source": [
    "df.head()"
   ]
  },
  {
   "cell_type": "code",
   "execution_count": 8,
   "id": "56ed55f8",
   "metadata": {},
   "outputs": [
    {
     "name": "stdout",
     "output_type": "stream",
     "text": [
      "shape: (2, 19)\n",
      "┌───────────┬───────────┬──────────┬───────────┬───┬───────────┬───────────┬───────────┬───────────┐\n",
      "│ General_H ┆ Checkup   ┆ Exercise ┆ Heart_Dis ┆ … ┆ Alcohol_C ┆ Fruit_Con ┆ Green_Veg ┆ FriedPota │\n",
      "│ ealth     ┆ ---       ┆ ---      ┆ ease      ┆   ┆ onsumptio ┆ sumption  ┆ etables_C ┆ to_Consum │\n",
      "│ ---       ┆ str       ┆ str      ┆ ---       ┆   ┆ n         ┆ ---       ┆ onsumptio ┆ ption     │\n",
      "│ str       ┆           ┆          ┆ str       ┆   ┆ ---       ┆ f64       ┆ n         ┆ ---       │\n",
      "│           ┆           ┆          ┆           ┆   ┆ f64       ┆           ┆ ---       ┆ f64       │\n",
      "│           ┆           ┆          ┆           ┆   ┆           ┆           ┆ f64       ┆           │\n",
      "╞═══════════╪═══════════╪══════════╪═══════════╪═══╪═══════════╪═══════════╪═══════════╪═══════════╡\n",
      "│ Poor      ┆ Within    ┆ No       ┆ No        ┆ … ┆ 0.0       ┆ 30.0      ┆ 16.0      ┆ 12.0      │\n",
      "│           ┆ the past  ┆          ┆           ┆   ┆           ┆           ┆           ┆           │\n",
      "│           ┆ 2 years   ┆          ┆           ┆   ┆           ┆           ┆           ┆           │\n",
      "│ Very Good ┆ Within    ┆ No       ┆ Yes       ┆ … ┆ 0.0       ┆ 30.0      ┆ 0.0       ┆ 4.0       │\n",
      "│           ┆ the past  ┆          ┆           ┆   ┆           ┆           ┆           ┆           │\n",
      "│           ┆ year      ┆          ┆           ┆   ┆           ┆           ┆           ┆           │\n",
      "└───────────┴───────────┴──────────┴───────────┴───┴───────────┴───────────┴───────────┴───────────┘\n"
     ]
    }
   ],
   "source": [
    "print(df.head(2))"
   ]
  },
  {
   "cell_type": "code",
   "execution_count": 16,
   "id": "4e0e6c52",
   "metadata": {},
   "outputs": [
    {
     "data": {
      "text/plain": [
       "[String,\n",
       " String,\n",
       " String,\n",
       " String,\n",
       " String,\n",
       " String,\n",
       " String,\n",
       " String,\n",
       " String,\n",
       " String,\n",
       " String,\n",
       " Float64,\n",
       " Float64,\n",
       " Float64,\n",
       " String,\n",
       " Float64,\n",
       " Float64,\n",
       " Float64,\n",
       " Float64]"
      ]
     },
     "execution_count": 16,
     "metadata": {},
     "output_type": "execute_result"
    }
   ],
   "source": [
    "df.dtypes"
   ]
  },
  {
   "cell_type": "code",
   "execution_count": 58,
   "id": "82b28eee",
   "metadata": {},
   "outputs": [
    {
     "data": {
      "text/html": [
       "<div><style>\n",
       ".dataframe > thead > tr,\n",
       ".dataframe > tbody > tr {\n",
       "  text-align: right;\n",
       "  white-space: pre-wrap;\n",
       "}\n",
       "</style>\n",
       "<small>shape: (308_854,)</small><table border=\"1\" class=\"dataframe\"><thead><tr><th>Height</th></tr><tr><td>f64</td></tr></thead><tbody><tr><td>150.0</td></tr><tr><td>165.0</td></tr><tr><td>163.0</td></tr><tr><td>180.0</td></tr><tr><td>191.0</td></tr><tr><td>&hellip;</td></tr><tr><td>168.0</td></tr><tr><td>180.0</td></tr><tr><td>157.0</td></tr><tr><td>183.0</td></tr><tr><td>160.0</td></tr></tbody></table></div>"
      ],
      "text/plain": [
       "shape: (308_854,)\n",
       "Series: 'Height' [f64]\n",
       "[\n",
       "\t150.0\n",
       "\t165.0\n",
       "\t163.0\n",
       "\t180.0\n",
       "\t191.0\n",
       "\t…\n",
       "\t168.0\n",
       "\t180.0\n",
       "\t157.0\n",
       "\t183.0\n",
       "\t160.0\n",
       "]"
      ]
     },
     "execution_count": 58,
     "metadata": {},
     "output_type": "execute_result"
    }
   ],
   "source": [
    "df = df.rename({\"Height_(cm)\": \"Height\", \"Weight_(kg)\": \"Weight\"})\n",
    "df.get_column(\"Height\")"
   ]
  },
  {
   "cell_type": "code",
   "execution_count": 60,
   "id": "6885ea3f",
   "metadata": {},
   "outputs": [
    {
     "data": {
      "text/plain": [
       "['general_health',\n",
       " 'checkup',\n",
       " 'exercise',\n",
       " 'heart_disease',\n",
       " 'skin_cancer',\n",
       " 'other_cancer',\n",
       " 'depression',\n",
       " 'diabetes',\n",
       " 'arthritis',\n",
       " 'sex',\n",
       " 'age_category',\n",
       " 'height',\n",
       " 'weight',\n",
       " 'bmi',\n",
       " 'smoking_history',\n",
       " 'alcohol_consumption',\n",
       " 'fruit_consumption',\n",
       " 'green_vegetables_consumption',\n",
       " 'friedpotato_consumption']"
      ]
     },
     "execution_count": 60,
     "metadata": {},
     "output_type": "execute_result"
    }
   ],
   "source": [
    "df.columns = [col.lower() for col in df.columns]\n",
    "df.columns"
   ]
  },
  {
   "cell_type": "markdown",
   "id": "4f95770d",
   "metadata": {},
   "source": [
    "### Selecting and Filtering data"
   ]
  },
  {
   "cell_type": "markdown",
   "id": "a513d70d",
   "metadata": {},
   "source": [
    "In Polars, reading the documentation it is possible to realize that using '[]' is like an anti-pattern. Instead, it is used '()'"
   ]
  },
  {
   "cell_type": "markdown",
   "id": "28cc5c53",
   "metadata": {},
   "source": [
    "- `select` function"
   ]
  },
  {
   "cell_type": "code",
   "execution_count": 76,
   "id": "34b4f4c0",
   "metadata": {},
   "outputs": [
    {
     "name": "stdout",
     "output_type": "stream",
     "text": [
      "shape: (5, 2)\n",
      "┌────────┬───────────┐\n",
      "│ sex    ┆ bmi       │\n",
      "│ ---    ┆ ---       │\n",
      "│ str    ┆ f64       │\n",
      "╞════════╪═══════════╡\n",
      "│ Female ┆ 14.515556 │\n",
      "│ Female ┆ 28.323232 │\n",
      "│ Female ┆ 33.290677 │\n",
      "│ Male   ┆ 28.839506 │\n",
      "│ Male   ┆ 24.245498 │\n",
      "└────────┴───────────┘\n"
     ]
    }
   ],
   "source": [
    "result = df.select(\n",
    "    pl.col(\"sex\"),\n",
    "    ((pl.col(\"weight\") / pl.col(\"height\") ** 2 ) * 10000).alias(\"bmi\"),\n",
    "    ).head()\n",
    "\n",
    "print(result)"
   ]
  },
  {
   "cell_type": "markdown",
   "id": "b4f44748",
   "metadata": {},
   "source": [
    "\n",
    "- `filter` function"
   ]
  },
  {
   "cell_type": "code",
   "execution_count": null,
   "id": "8924520d",
   "metadata": {},
   "outputs": [],
   "source": []
  },
  {
   "cell_type": "markdown",
   "id": "2de74565",
   "metadata": {},
   "source": [
    "- `with_columns` function"
   ]
  },
  {
   "cell_type": "code",
   "execution_count": null,
   "id": "3f551b04",
   "metadata": {},
   "outputs": [],
   "source": [
    "df = df.with_columns()"
   ]
  },
  {
   "cell_type": "markdown",
   "id": "15921f8f",
   "metadata": {},
   "source": []
  }
 ],
 "metadata": {
  "kernelspec": {
   "display_name": "Python 3",
   "language": "python",
   "name": "python3"
  },
  "language_info": {
   "codemirror_mode": {
    "name": "ipython",
    "version": 3
   },
   "file_extension": ".py",
   "mimetype": "text/x-python",
   "name": "python",
   "nbconvert_exporter": "python",
   "pygments_lexer": "ipython3",
   "version": "3.13.3"
  }
 },
 "nbformat": 4,
 "nbformat_minor": 5
}
